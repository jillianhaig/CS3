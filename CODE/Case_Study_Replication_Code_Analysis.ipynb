{
  "nbformat": 4,
  "nbformat_minor": 0,
  "metadata": {
    "colab": {
      "provenance": [],
      "authorship_tag": "ABX9TyPFL4Sh3J7AcRjwm8EflCH8",
      "include_colab_link": true
    },
    "kernelspec": {
      "name": "python3",
      "display_name": "Python 3"
    },
    "language_info": {
      "name": "python"
    }
  },
  "cells": [
    {
      "cell_type": "markdown",
      "metadata": {
        "id": "view-in-github",
        "colab_type": "text"
      },
      "source": [
        "<a href=\"https://colab.research.google.com/github/jillianhaig/CS3/blob/main/CODE/Case_Study_Replication_Code_Analysis.ipynb\" target=\"_parent\"><img src=\"https://colab.research.google.com/assets/colab-badge.svg\" alt=\"Open In Colab\"/></a>"
      ]
    },
    {
      "cell_type": "code",
      "execution_count": 1,
      "metadata": {
        "colab": {
          "base_uri": "https://localhost:8080/"
        },
        "id": "VhRPQSogWWlg",
        "outputId": "f4fc4f1a-f1cc-48de-b273-d8040d2d3811"
      },
      "outputs": [
        {
          "output_type": "stream",
          "name": "stdout",
          "text": [
            "Cloning into 'CS3'...\n",
            "remote: Enumerating objects: 43, done.\u001b[K\n",
            "remote: Counting objects: 100% (43/43), done.\u001b[K\n",
            "remote: Compressing objects: 100% (37/37), done.\u001b[K\n",
            "remote: Total 43 (delta 13), reused 0 (delta 0), pack-reused 0 (from 0)\u001b[K\n",
            "Receiving objects: 100% (43/43), 8.74 MiB | 3.42 MiB/s, done.\n",
            "Resolving deltas: 100% (13/13), done.\n"
          ]
        }
      ],
      "source": [
        "! git clone https://github.com/jillianhaig/CS3 # access data loaded from the github repository"
      ]
    },
    {
      "cell_type": "code",
      "source": [
        "# import packages\n",
        "import pandas as pd\n",
        "from scipy import stats\n",
        "import seaborn as sns\n",
        "import matplotlib.pyplot as plt\n",
        "import statsmodels.api as sm\n",
        "import numpy as np"
      ],
      "metadata": {
        "id": "UKWYuRJ7WpKu"
      },
      "execution_count": 2,
      "outputs": []
    },
    {
      "cell_type": "code",
      "source": [
        "# load in the dataset\n",
        "df = pd.read_csv('/content/CS3/DATA/Disney_Movie_Dataset.csv')\n",
        "df.head()"
      ],
      "metadata": {
        "colab": {
          "base_uri": "https://localhost:8080/",
          "height": 380
        },
        "id": "d4CWo376Wv3o",
        "outputId": "32d2c753-4274-41db-ddac-58dda21b6f02"
      },
      "execution_count": 5,
      "outputs": [
        {
          "output_type": "execute_result",
          "data": {
            "text/plain": [
              "            username rating  helpful  total        date  \\\n",
              "0        havenferrer     10       79     96  2019-02-23   \n",
              "1  gloriesalbuainain      9       27     31  2019-06-14   \n",
              "2       james-calver      9      396    666  2016-07-09   \n",
              "3        Sweetigal85     10       42     67  2017-05-28   \n",
              "4          acohen090     10      130    234  2018-07-28   \n",
              "\n",
              "                                               title  \\\n",
              "0   Everyone that rated this below a 7 are why ca...   \n",
              "1                            I cried like a baby..\\n   \n",
              "2       I feel like everybody has missed the point\\n   \n",
              "3             A brilliant depiction of adolescence\\n   \n",
              "4                                             How?\\n   \n",
              "\n",
              "                                              review         UniqueID  \\\n",
              "0  Oh my god. This has to be the most misundersto...  Inside Out 2015   \n",
              "1  I watched the movie long time ago, and I've ju...  Inside Out 2015   \n",
              "2  I am not normally one to write reviews, but I ...  Inside Out 2015   \n",
              "3  As an adult, I love animated films but the tra...  Inside Out 2015   \n",
              "4  Wtf people. I was just reading like several on...  Inside Out 2015   \n",
              "\n",
              "  release_date  recent?  \n",
              "0   2015-06-19        0  \n",
              "1   2015-06-19        0  \n",
              "2   2015-06-19        0  \n",
              "3   2015-06-19        0  \n",
              "4   2015-06-19        0  "
            ],
            "text/html": [
              "\n",
              "  <div id=\"df-b9122063-429a-473d-81a8-d8716291bf89\" class=\"colab-df-container\">\n",
              "    <div>\n",
              "<style scoped>\n",
              "    .dataframe tbody tr th:only-of-type {\n",
              "        vertical-align: middle;\n",
              "    }\n",
              "\n",
              "    .dataframe tbody tr th {\n",
              "        vertical-align: top;\n",
              "    }\n",
              "\n",
              "    .dataframe thead th {\n",
              "        text-align: right;\n",
              "    }\n",
              "</style>\n",
              "<table border=\"1\" class=\"dataframe\">\n",
              "  <thead>\n",
              "    <tr style=\"text-align: right;\">\n",
              "      <th></th>\n",
              "      <th>username</th>\n",
              "      <th>rating</th>\n",
              "      <th>helpful</th>\n",
              "      <th>total</th>\n",
              "      <th>date</th>\n",
              "      <th>title</th>\n",
              "      <th>review</th>\n",
              "      <th>UniqueID</th>\n",
              "      <th>release_date</th>\n",
              "      <th>recent?</th>\n",
              "    </tr>\n",
              "  </thead>\n",
              "  <tbody>\n",
              "    <tr>\n",
              "      <th>0</th>\n",
              "      <td>havenferrer</td>\n",
              "      <td>10</td>\n",
              "      <td>79</td>\n",
              "      <td>96</td>\n",
              "      <td>2019-02-23</td>\n",
              "      <td>Everyone that rated this below a 7 are why ca...</td>\n",
              "      <td>Oh my god. This has to be the most misundersto...</td>\n",
              "      <td>Inside Out 2015</td>\n",
              "      <td>2015-06-19</td>\n",
              "      <td>0</td>\n",
              "    </tr>\n",
              "    <tr>\n",
              "      <th>1</th>\n",
              "      <td>gloriesalbuainain</td>\n",
              "      <td>9</td>\n",
              "      <td>27</td>\n",
              "      <td>31</td>\n",
              "      <td>2019-06-14</td>\n",
              "      <td>I cried like a baby..\\n</td>\n",
              "      <td>I watched the movie long time ago, and I've ju...</td>\n",
              "      <td>Inside Out 2015</td>\n",
              "      <td>2015-06-19</td>\n",
              "      <td>0</td>\n",
              "    </tr>\n",
              "    <tr>\n",
              "      <th>2</th>\n",
              "      <td>james-calver</td>\n",
              "      <td>9</td>\n",
              "      <td>396</td>\n",
              "      <td>666</td>\n",
              "      <td>2016-07-09</td>\n",
              "      <td>I feel like everybody has missed the point\\n</td>\n",
              "      <td>I am not normally one to write reviews, but I ...</td>\n",
              "      <td>Inside Out 2015</td>\n",
              "      <td>2015-06-19</td>\n",
              "      <td>0</td>\n",
              "    </tr>\n",
              "    <tr>\n",
              "      <th>3</th>\n",
              "      <td>Sweetigal85</td>\n",
              "      <td>10</td>\n",
              "      <td>42</td>\n",
              "      <td>67</td>\n",
              "      <td>2017-05-28</td>\n",
              "      <td>A brilliant depiction of adolescence\\n</td>\n",
              "      <td>As an adult, I love animated films but the tra...</td>\n",
              "      <td>Inside Out 2015</td>\n",
              "      <td>2015-06-19</td>\n",
              "      <td>0</td>\n",
              "    </tr>\n",
              "    <tr>\n",
              "      <th>4</th>\n",
              "      <td>acohen090</td>\n",
              "      <td>10</td>\n",
              "      <td>130</td>\n",
              "      <td>234</td>\n",
              "      <td>2018-07-28</td>\n",
              "      <td>How?\\n</td>\n",
              "      <td>Wtf people. I was just reading like several on...</td>\n",
              "      <td>Inside Out 2015</td>\n",
              "      <td>2015-06-19</td>\n",
              "      <td>0</td>\n",
              "    </tr>\n",
              "  </tbody>\n",
              "</table>\n",
              "</div>\n",
              "    <div class=\"colab-df-buttons\">\n",
              "\n",
              "  <div class=\"colab-df-container\">\n",
              "    <button class=\"colab-df-convert\" onclick=\"convertToInteractive('df-b9122063-429a-473d-81a8-d8716291bf89')\"\n",
              "            title=\"Convert this dataframe to an interactive table.\"\n",
              "            style=\"display:none;\">\n",
              "\n",
              "  <svg xmlns=\"http://www.w3.org/2000/svg\" height=\"24px\" viewBox=\"0 -960 960 960\">\n",
              "    <path d=\"M120-120v-720h720v720H120Zm60-500h600v-160H180v160Zm220 220h160v-160H400v160Zm0 220h160v-160H400v160ZM180-400h160v-160H180v160Zm440 0h160v-160H620v160ZM180-180h160v-160H180v160Zm440 0h160v-160H620v160Z\"/>\n",
              "  </svg>\n",
              "    </button>\n",
              "\n",
              "  <style>\n",
              "    .colab-df-container {\n",
              "      display:flex;\n",
              "      gap: 12px;\n",
              "    }\n",
              "\n",
              "    .colab-df-convert {\n",
              "      background-color: #E8F0FE;\n",
              "      border: none;\n",
              "      border-radius: 50%;\n",
              "      cursor: pointer;\n",
              "      display: none;\n",
              "      fill: #1967D2;\n",
              "      height: 32px;\n",
              "      padding: 0 0 0 0;\n",
              "      width: 32px;\n",
              "    }\n",
              "\n",
              "    .colab-df-convert:hover {\n",
              "      background-color: #E2EBFA;\n",
              "      box-shadow: 0px 1px 2px rgba(60, 64, 67, 0.3), 0px 1px 3px 1px rgba(60, 64, 67, 0.15);\n",
              "      fill: #174EA6;\n",
              "    }\n",
              "\n",
              "    .colab-df-buttons div {\n",
              "      margin-bottom: 4px;\n",
              "    }\n",
              "\n",
              "    [theme=dark] .colab-df-convert {\n",
              "      background-color: #3B4455;\n",
              "      fill: #D2E3FC;\n",
              "    }\n",
              "\n",
              "    [theme=dark] .colab-df-convert:hover {\n",
              "      background-color: #434B5C;\n",
              "      box-shadow: 0px 1px 3px 1px rgba(0, 0, 0, 0.15);\n",
              "      filter: drop-shadow(0px 1px 2px rgba(0, 0, 0, 0.3));\n",
              "      fill: #FFFFFF;\n",
              "    }\n",
              "  </style>\n",
              "\n",
              "    <script>\n",
              "      const buttonEl =\n",
              "        document.querySelector('#df-b9122063-429a-473d-81a8-d8716291bf89 button.colab-df-convert');\n",
              "      buttonEl.style.display =\n",
              "        google.colab.kernel.accessAllowed ? 'block' : 'none';\n",
              "\n",
              "      async function convertToInteractive(key) {\n",
              "        const element = document.querySelector('#df-b9122063-429a-473d-81a8-d8716291bf89');\n",
              "        const dataTable =\n",
              "          await google.colab.kernel.invokeFunction('convertToInteractive',\n",
              "                                                    [key], {});\n",
              "        if (!dataTable) return;\n",
              "\n",
              "        const docLinkHtml = 'Like what you see? Visit the ' +\n",
              "          '<a target=\"_blank\" href=https://colab.research.google.com/notebooks/data_table.ipynb>data table notebook</a>'\n",
              "          + ' to learn more about interactive tables.';\n",
              "        element.innerHTML = '';\n",
              "        dataTable['output_type'] = 'display_data';\n",
              "        await google.colab.output.renderOutput(dataTable, element);\n",
              "        const docLink = document.createElement('div');\n",
              "        docLink.innerHTML = docLinkHtml;\n",
              "        element.appendChild(docLink);\n",
              "      }\n",
              "    </script>\n",
              "  </div>\n",
              "\n",
              "\n",
              "<div id=\"df-b7a86718-0eea-4636-9957-b9abf897e5d7\">\n",
              "  <button class=\"colab-df-quickchart\" onclick=\"quickchart('df-b7a86718-0eea-4636-9957-b9abf897e5d7')\"\n",
              "            title=\"Suggest charts\"\n",
              "            style=\"display:none;\">\n",
              "\n",
              "<svg xmlns=\"http://www.w3.org/2000/svg\" height=\"24px\"viewBox=\"0 0 24 24\"\n",
              "     width=\"24px\">\n",
              "    <g>\n",
              "        <path d=\"M19 3H5c-1.1 0-2 .9-2 2v14c0 1.1.9 2 2 2h14c1.1 0 2-.9 2-2V5c0-1.1-.9-2-2-2zM9 17H7v-7h2v7zm4 0h-2V7h2v10zm4 0h-2v-4h2v4z\"/>\n",
              "    </g>\n",
              "</svg>\n",
              "  </button>\n",
              "\n",
              "<style>\n",
              "  .colab-df-quickchart {\n",
              "      --bg-color: #E8F0FE;\n",
              "      --fill-color: #1967D2;\n",
              "      --hover-bg-color: #E2EBFA;\n",
              "      --hover-fill-color: #174EA6;\n",
              "      --disabled-fill-color: #AAA;\n",
              "      --disabled-bg-color: #DDD;\n",
              "  }\n",
              "\n",
              "  [theme=dark] .colab-df-quickchart {\n",
              "      --bg-color: #3B4455;\n",
              "      --fill-color: #D2E3FC;\n",
              "      --hover-bg-color: #434B5C;\n",
              "      --hover-fill-color: #FFFFFF;\n",
              "      --disabled-bg-color: #3B4455;\n",
              "      --disabled-fill-color: #666;\n",
              "  }\n",
              "\n",
              "  .colab-df-quickchart {\n",
              "    background-color: var(--bg-color);\n",
              "    border: none;\n",
              "    border-radius: 50%;\n",
              "    cursor: pointer;\n",
              "    display: none;\n",
              "    fill: var(--fill-color);\n",
              "    height: 32px;\n",
              "    padding: 0;\n",
              "    width: 32px;\n",
              "  }\n",
              "\n",
              "  .colab-df-quickchart:hover {\n",
              "    background-color: var(--hover-bg-color);\n",
              "    box-shadow: 0 1px 2px rgba(60, 64, 67, 0.3), 0 1px 3px 1px rgba(60, 64, 67, 0.15);\n",
              "    fill: var(--button-hover-fill-color);\n",
              "  }\n",
              "\n",
              "  .colab-df-quickchart-complete:disabled,\n",
              "  .colab-df-quickchart-complete:disabled:hover {\n",
              "    background-color: var(--disabled-bg-color);\n",
              "    fill: var(--disabled-fill-color);\n",
              "    box-shadow: none;\n",
              "  }\n",
              "\n",
              "  .colab-df-spinner {\n",
              "    border: 2px solid var(--fill-color);\n",
              "    border-color: transparent;\n",
              "    border-bottom-color: var(--fill-color);\n",
              "    animation:\n",
              "      spin 1s steps(1) infinite;\n",
              "  }\n",
              "\n",
              "  @keyframes spin {\n",
              "    0% {\n",
              "      border-color: transparent;\n",
              "      border-bottom-color: var(--fill-color);\n",
              "      border-left-color: var(--fill-color);\n",
              "    }\n",
              "    20% {\n",
              "      border-color: transparent;\n",
              "      border-left-color: var(--fill-color);\n",
              "      border-top-color: var(--fill-color);\n",
              "    }\n",
              "    30% {\n",
              "      border-color: transparent;\n",
              "      border-left-color: var(--fill-color);\n",
              "      border-top-color: var(--fill-color);\n",
              "      border-right-color: var(--fill-color);\n",
              "    }\n",
              "    40% {\n",
              "      border-color: transparent;\n",
              "      border-right-color: var(--fill-color);\n",
              "      border-top-color: var(--fill-color);\n",
              "    }\n",
              "    60% {\n",
              "      border-color: transparent;\n",
              "      border-right-color: var(--fill-color);\n",
              "    }\n",
              "    80% {\n",
              "      border-color: transparent;\n",
              "      border-right-color: var(--fill-color);\n",
              "      border-bottom-color: var(--fill-color);\n",
              "    }\n",
              "    90% {\n",
              "      border-color: transparent;\n",
              "      border-bottom-color: var(--fill-color);\n",
              "    }\n",
              "  }\n",
              "</style>\n",
              "\n",
              "  <script>\n",
              "    async function quickchart(key) {\n",
              "      const quickchartButtonEl =\n",
              "        document.querySelector('#' + key + ' button');\n",
              "      quickchartButtonEl.disabled = true;  // To prevent multiple clicks.\n",
              "      quickchartButtonEl.classList.add('colab-df-spinner');\n",
              "      try {\n",
              "        const charts = await google.colab.kernel.invokeFunction(\n",
              "            'suggestCharts', [key], {});\n",
              "      } catch (error) {\n",
              "        console.error('Error during call to suggestCharts:', error);\n",
              "      }\n",
              "      quickchartButtonEl.classList.remove('colab-df-spinner');\n",
              "      quickchartButtonEl.classList.add('colab-df-quickchart-complete');\n",
              "    }\n",
              "    (() => {\n",
              "      let quickchartButtonEl =\n",
              "        document.querySelector('#df-b7a86718-0eea-4636-9957-b9abf897e5d7 button');\n",
              "      quickchartButtonEl.style.display =\n",
              "        google.colab.kernel.accessAllowed ? 'block' : 'none';\n",
              "    })();\n",
              "  </script>\n",
              "</div>\n",
              "\n",
              "    </div>\n",
              "  </div>\n"
            ],
            "application/vnd.google.colaboratory.intrinsic+json": {
              "type": "dataframe",
              "variable_name": "df",
              "summary": "{\n  \"name\": \"df\",\n  \"rows\": 15531,\n  \"fields\": [\n    {\n      \"column\": \"username\",\n      \"properties\": {\n        \"dtype\": \"string\",\n        \"num_unique_values\": 11079,\n        \"samples\": [\n          \"rinkeshpanari\",\n          \"GpaJimson\",\n          \"The_Dead_See\"\n        ],\n        \"semantic_type\": \"\",\n        \"description\": \"\"\n      }\n    },\n    {\n      \"column\": \"rating\",\n      \"properties\": {\n        \"dtype\": \"category\",\n        \"num_unique_values\": 11,\n        \"samples\": [\n          \"2\",\n          \"10\",\n          \"7\"\n        ],\n        \"semantic_type\": \"\",\n        \"description\": \"\"\n      }\n    },\n    {\n      \"column\": \"helpful\",\n      \"properties\": {\n        \"dtype\": \"number\",\n        \"std\": 37,\n        \"min\": 0,\n        \"max\": 984,\n        \"num_unique_values\": 280,\n        \"samples\": [\n          294,\n          33,\n          507\n        ],\n        \"semantic_type\": \"\",\n        \"description\": \"\"\n      }\n    },\n    {\n      \"column\": \"total\",\n      \"properties\": {\n        \"dtype\": \"number\",\n        \"std\": 62,\n        \"min\": 0,\n        \"max\": 1154,\n        \"num_unique_values\": 383,\n        \"samples\": [\n          151,\n          549,\n          202\n        ],\n        \"semantic_type\": \"\",\n        \"description\": \"\"\n      }\n    },\n    {\n      \"column\": \"date\",\n      \"properties\": {\n        \"dtype\": \"object\",\n        \"num_unique_values\": 4952,\n        \"samples\": [\n          \"2016-05-27\",\n          \"2001-01-09\",\n          \"2014-02-01\"\n        ],\n        \"semantic_type\": \"\",\n        \"description\": \"\"\n      }\n    },\n    {\n      \"column\": \"title\",\n      \"properties\": {\n        \"dtype\": \"string\",\n        \"num_unique_values\": 14424,\n        \"samples\": [\n          \" The incredibles\\n\",\n          \" The ending of an excellent childhood\\n\",\n          \" Just Let It Go, People\\n\"\n        ],\n        \"semantic_type\": \"\",\n        \"description\": \"\"\n      }\n    },\n    {\n      \"column\": \"review\",\n      \"properties\": {\n        \"dtype\": \"string\",\n        \"num_unique_values\": 15491,\n        \"samples\": [\n          \"Disney like the word \\\"magic\\\". And in this case, the great marriage between Disney and Pixar work so well that the result is Magic. Magic for its original scenario, for the characters, the design and of course, and above all, the terrific animation. While a rat is not a very lovable animal, Pixar succeeded to make a little rodent, and all his family, most adorable and friendly. I tell you, you wont see a rat the same way after watching ratatouille ! By the way, the selling of rats in the UK, as a pet, had been grown up to 50 % since the release of the movie. Not 10/10 because of the score and the song, sang in a very weak, broken french. But over-whole, once again, a great journey into magic. Dreamworks can still manage and try to do better. But without a good writer and director, they will only do pale copies.\",\n          \"With the release of Tangled and Frozen so close together, Disney is showing that it still has the quality that we loved of it in the late 80's and 90's.<br/><br/>While I feel that the story wasn't quite as captivating as that of Tangled's, the musical numbers more than make up for it, special praise being for \\\"Do You Want to Build a Snowman\\\" and (obviously) \\\"Let it Go\\\". The strength of these musical numbers (in my opinion) pulls this up to a par with Tangled.<br/><br/>What I give more praise for is the film's originality in terms of plot, it's not every day that I watch a Disney film and find myself pondering who the main antagonist will be, and how the film will end, hats off to that, and for giving yet more empowered female characters. It's good to see Disney moving along with the times.<br/><br/>All in all I recommend this film to any fan of Disney, and any film fan in general, I wasn't sure what all the buzz was about at first, but now I have seen it I can see it is justified. 10/10\",\n          \"I've always been very impressed by animated films, I think they're generally of a very high standard. There is a strange apprehension that many adults seem to have about them; that they're silly, just for kids. It's completely irrational. I think animation is actually the \\\"genre\\\" with the highest consistent standard. They almost always have far more detail than live-action entertainment. Everything you see was specifically put there, it was built from scratch. Nowadays it's possible to get lazy with the use of computers, but with the right attitude, CGI only opens up more possibilities. It also allows for more exaggeration and symbolism; you aren't limited to the reality everyone is used to. You can set up your own rules which is far more refreshing and exciting.<br/><br/>The characters are very strong and human in Frozen, especially Ana. She loves her sister Elsa and just wants to play with her all the time. She loves her so much that it hurts every time she's turned down and yet she is still just as excited to play with her the next time. There is a lot of physical comedy with Ana. She is very energetic and positive and careless. We see her heart and her insecurities, she is very likable.<br/><br/>The story is quite adult in some ways. Many families will experience some kind of strain or separation, whether temporary or permanent. Each side has their own point of view and are often trying to do the right thing; it's complicated. People get hurt, years pass and there is anger and guilt and regret. And hopefully, there is still love.<br/><br/>The characters we meet are all interesting and quirky. We get a good feel for their personality from the get-go. There are twists that may teach kids to think twice about first impressions. Elsa isn't evil but is conflicted and dangerous which is a nice change from typical villains in movies. The action scenes are done really well. There are only a few parts that are a bit weaker or predictable (the troll song seems unnecessary). The voice-acting is fun and varied, they say lines in interesting ways that bring out more meaning.<br/><br/>Olaf is very funny and offbeat. He fills in a familiar position in these kinds of movies but his timing and manner is unique. You aren't quite sure what he's going to say but it's generally very funny. He makes matter-of-fact observations halfway between obvious and profound.<br/><br/>Although the music is very nice, I think the transitions were too forced and artificial. A bit too perfect. The songs fall too conveniently into standard show-stopping number formats. Reminds me of Wicked and Glee - let's all stop and sing loudly and proudly and colourfully with shining lights on us. It should be natural, an emotional expression of the character's feelings and desires. Not a show-off piece of pop music with \\\"hilarious\\\" lines thrown in. Still, the songs are very good and sometimes funny. But there could be more of a common thread or style running through them and more originality or boldness.<br/><br/>It's unfair and naive that the world seems to look down at \\\"kid's movies\\\" (any genre other than drama apparently deserves no respect). If anything, they usually achieve more than other films. They manage to move us, make us laugh or sing or smile or cry. They do this without swearing or being excessively violent or sexual (easy ways to affect people or to be \\\"ground-breaking\\\"). They draw us in with simple, beautiful stories and characters. All made possible by the tremendous amount of talent, passion and hard-work going on behind the scenes.\"\n        ],\n        \"semantic_type\": \"\",\n        \"description\": \"\"\n      }\n    },\n    {\n      \"column\": \"UniqueID\",\n      \"properties\": {\n        \"dtype\": \"category\",\n        \"num_unique_values\": 23,\n        \"samples\": [\n          \"Zootopia 2016\",\n          \"Toy Story 4 2019\",\n          \"Inside Out 2015\"\n        ],\n        \"semantic_type\": \"\",\n        \"description\": \"\"\n      }\n    },\n    {\n      \"column\": \"release_date\",\n      \"properties\": {\n        \"dtype\": \"object\",\n        \"num_unique_values\": 22,\n        \"samples\": [\n          \"2015-06-19\",\n          \"2013-06-21\",\n          \"2014-11-07\"\n        ],\n        \"semantic_type\": \"\",\n        \"description\": \"\"\n      }\n    },\n    {\n      \"column\": \"recent?\",\n      \"properties\": {\n        \"dtype\": \"number\",\n        \"std\": 0,\n        \"min\": 0,\n        \"max\": 1,\n        \"num_unique_values\": 2,\n        \"samples\": [\n          1,\n          0\n        ],\n        \"semantic_type\": \"\",\n        \"description\": \"\"\n      }\n    }\n  ]\n}"
            }
          },
          "metadata": {},
          "execution_count": 5
        }
      ]
    },
    {
      "cell_type": "code",
      "source": [
        "# use the VADER package to obtain compounded sentiment scores from the review text data\n",
        "!pip install vaderSentiment\n",
        "from vaderSentiment.vaderSentiment import SentimentIntensityAnalyzer"
      ],
      "metadata": {
        "colab": {
          "base_uri": "https://localhost:8080/"
        },
        "id": "zzL71gEBYNfQ",
        "outputId": "9d848af1-ebd3-4c9c-f242-26886bf4f36f"
      },
      "execution_count": 6,
      "outputs": [
        {
          "output_type": "stream",
          "name": "stdout",
          "text": [
            "Collecting vaderSentiment\n",
            "  Downloading vaderSentiment-3.3.2-py2.py3-none-any.whl.metadata (572 bytes)\n",
            "Requirement already satisfied: requests in /usr/local/lib/python3.10/dist-packages (from vaderSentiment) (2.32.3)\n",
            "Requirement already satisfied: charset-normalizer<4,>=2 in /usr/local/lib/python3.10/dist-packages (from requests->vaderSentiment) (3.4.0)\n",
            "Requirement already satisfied: idna<4,>=2.5 in /usr/local/lib/python3.10/dist-packages (from requests->vaderSentiment) (3.10)\n",
            "Requirement already satisfied: urllib3<3,>=1.21.1 in /usr/local/lib/python3.10/dist-packages (from requests->vaderSentiment) (2.2.3)\n",
            "Requirement already satisfied: certifi>=2017.4.17 in /usr/local/lib/python3.10/dist-packages (from requests->vaderSentiment) (2024.8.30)\n",
            "Downloading vaderSentiment-3.3.2-py2.py3-none-any.whl (125 kB)\n",
            "\u001b[?25l   \u001b[90m━━━━━━━━━━━━━━━━━━━━━━━━━━━━━━━━━━━━━━━━\u001b[0m \u001b[32m0.0/126.0 kB\u001b[0m \u001b[31m?\u001b[0m eta \u001b[36m-:--:--\u001b[0m\r\u001b[2K   \u001b[91m━━━━━━━━━━━━━━━━━━━━━━━━━━━━━\u001b[0m\u001b[90m╺\u001b[0m\u001b[90m━━━━━━━━━━\u001b[0m \u001b[32m92.2/126.0 kB\u001b[0m \u001b[31m3.4 MB/s\u001b[0m eta \u001b[36m0:00:01\u001b[0m\r\u001b[2K   \u001b[90m━━━━━━━━━━━━━━━━━━━━━━━━━━━━━━━━━━━━━━━━\u001b[0m \u001b[32m126.0/126.0 kB\u001b[0m \u001b[31m2.4 MB/s\u001b[0m eta \u001b[36m0:00:00\u001b[0m\n",
            "\u001b[?25hInstalling collected packages: vaderSentiment\n",
            "Successfully installed vaderSentiment-3.3.2\n"
          ]
        }
      ]
    },
    {
      "cell_type": "code",
      "source": [
        "# Initialize VADER sentiment analyzer\n",
        "analyzer = SentimentIntensityAnalyzer()"
      ],
      "metadata": {
        "id": "SgfSnECgYq0y"
      },
      "execution_count": 7,
      "outputs": []
    },
    {
      "cell_type": "code",
      "source": [
        "# Function to get sentiment scores\n",
        "def get_sentiment_scores(review):\n",
        "    score = analyzer.polarity_scores(review)\n",
        "    return pd.Series([score['neg'], score['pos'], score['compound']])"
      ],
      "metadata": {
        "id": "Hpme5iBMYsDL"
      },
      "execution_count": 8,
      "outputs": []
    },
    {
      "cell_type": "code",
      "source": [
        "# Apply the function to the 'review' column\n",
        "df[['negative', 'positive', 'compound']] = df['review'].apply(get_sentiment_scores)"
      ],
      "metadata": {
        "id": "6verL0CyYujm"
      },
      "execution_count": 9,
      "outputs": []
    },
    {
      "cell_type": "code",
      "source": [
        "df = df.drop([\"username\"], axis=1)"
      ],
      "metadata": {
        "id": "ed__gqujYyg9"
      },
      "execution_count": 10,
      "outputs": []
    },
    {
      "cell_type": "code",
      "source": [
        "df.head()"
      ],
      "metadata": {
        "colab": {
          "base_uri": "https://localhost:8080/",
          "height": 504
        },
        "id": "oIp5VMPfZUTl",
        "outputId": "be84c911-e3be-4844-f301-ef61dfe93a9f"
      },
      "execution_count": 11,
      "outputs": [
        {
          "output_type": "execute_result",
          "data": {
            "text/plain": [
              "  rating  helpful  total        date  \\\n",
              "0     10       79     96  2019-02-23   \n",
              "1      9       27     31  2019-06-14   \n",
              "2      9      396    666  2016-07-09   \n",
              "3     10       42     67  2017-05-28   \n",
              "4     10      130    234  2018-07-28   \n",
              "\n",
              "                                               title  \\\n",
              "0   Everyone that rated this below a 7 are why ca...   \n",
              "1                            I cried like a baby..\\n   \n",
              "2       I feel like everybody has missed the point\\n   \n",
              "3             A brilliant depiction of adolescence\\n   \n",
              "4                                             How?\\n   \n",
              "\n",
              "                                              review         UniqueID  \\\n",
              "0  Oh my god. This has to be the most misundersto...  Inside Out 2015   \n",
              "1  I watched the movie long time ago, and I've ju...  Inside Out 2015   \n",
              "2  I am not normally one to write reviews, but I ...  Inside Out 2015   \n",
              "3  As an adult, I love animated films but the tra...  Inside Out 2015   \n",
              "4  Wtf people. I was just reading like several on...  Inside Out 2015   \n",
              "\n",
              "  release_date  recent?  negative  positive  compound  \n",
              "0   2015-06-19        0     0.141     0.184    0.9910  \n",
              "1   2015-06-19        0     0.132     0.187    0.7181  \n",
              "2   2015-06-19        0     0.069     0.128    0.9703  \n",
              "3   2015-06-19        0     0.122     0.206    0.9818  \n",
              "4   2015-06-19        0     0.161     0.087   -0.8791  "
            ],
            "text/html": [
              "\n",
              "  <div id=\"df-791d58d1-dca2-43a6-b792-9968f20a2aa2\" class=\"colab-df-container\">\n",
              "    <div>\n",
              "<style scoped>\n",
              "    .dataframe tbody tr th:only-of-type {\n",
              "        vertical-align: middle;\n",
              "    }\n",
              "\n",
              "    .dataframe tbody tr th {\n",
              "        vertical-align: top;\n",
              "    }\n",
              "\n",
              "    .dataframe thead th {\n",
              "        text-align: right;\n",
              "    }\n",
              "</style>\n",
              "<table border=\"1\" class=\"dataframe\">\n",
              "  <thead>\n",
              "    <tr style=\"text-align: right;\">\n",
              "      <th></th>\n",
              "      <th>rating</th>\n",
              "      <th>helpful</th>\n",
              "      <th>total</th>\n",
              "      <th>date</th>\n",
              "      <th>title</th>\n",
              "      <th>review</th>\n",
              "      <th>UniqueID</th>\n",
              "      <th>release_date</th>\n",
              "      <th>recent?</th>\n",
              "      <th>negative</th>\n",
              "      <th>positive</th>\n",
              "      <th>compound</th>\n",
              "    </tr>\n",
              "  </thead>\n",
              "  <tbody>\n",
              "    <tr>\n",
              "      <th>0</th>\n",
              "      <td>10</td>\n",
              "      <td>79</td>\n",
              "      <td>96</td>\n",
              "      <td>2019-02-23</td>\n",
              "      <td>Everyone that rated this below a 7 are why ca...</td>\n",
              "      <td>Oh my god. This has to be the most misundersto...</td>\n",
              "      <td>Inside Out 2015</td>\n",
              "      <td>2015-06-19</td>\n",
              "      <td>0</td>\n",
              "      <td>0.141</td>\n",
              "      <td>0.184</td>\n",
              "      <td>0.9910</td>\n",
              "    </tr>\n",
              "    <tr>\n",
              "      <th>1</th>\n",
              "      <td>9</td>\n",
              "      <td>27</td>\n",
              "      <td>31</td>\n",
              "      <td>2019-06-14</td>\n",
              "      <td>I cried like a baby..\\n</td>\n",
              "      <td>I watched the movie long time ago, and I've ju...</td>\n",
              "      <td>Inside Out 2015</td>\n",
              "      <td>2015-06-19</td>\n",
              "      <td>0</td>\n",
              "      <td>0.132</td>\n",
              "      <td>0.187</td>\n",
              "      <td>0.7181</td>\n",
              "    </tr>\n",
              "    <tr>\n",
              "      <th>2</th>\n",
              "      <td>9</td>\n",
              "      <td>396</td>\n",
              "      <td>666</td>\n",
              "      <td>2016-07-09</td>\n",
              "      <td>I feel like everybody has missed the point\\n</td>\n",
              "      <td>I am not normally one to write reviews, but I ...</td>\n",
              "      <td>Inside Out 2015</td>\n",
              "      <td>2015-06-19</td>\n",
              "      <td>0</td>\n",
              "      <td>0.069</td>\n",
              "      <td>0.128</td>\n",
              "      <td>0.9703</td>\n",
              "    </tr>\n",
              "    <tr>\n",
              "      <th>3</th>\n",
              "      <td>10</td>\n",
              "      <td>42</td>\n",
              "      <td>67</td>\n",
              "      <td>2017-05-28</td>\n",
              "      <td>A brilliant depiction of adolescence\\n</td>\n",
              "      <td>As an adult, I love animated films but the tra...</td>\n",
              "      <td>Inside Out 2015</td>\n",
              "      <td>2015-06-19</td>\n",
              "      <td>0</td>\n",
              "      <td>0.122</td>\n",
              "      <td>0.206</td>\n",
              "      <td>0.9818</td>\n",
              "    </tr>\n",
              "    <tr>\n",
              "      <th>4</th>\n",
              "      <td>10</td>\n",
              "      <td>130</td>\n",
              "      <td>234</td>\n",
              "      <td>2018-07-28</td>\n",
              "      <td>How?\\n</td>\n",
              "      <td>Wtf people. I was just reading like several on...</td>\n",
              "      <td>Inside Out 2015</td>\n",
              "      <td>2015-06-19</td>\n",
              "      <td>0</td>\n",
              "      <td>0.161</td>\n",
              "      <td>0.087</td>\n",
              "      <td>-0.8791</td>\n",
              "    </tr>\n",
              "  </tbody>\n",
              "</table>\n",
              "</div>\n",
              "    <div class=\"colab-df-buttons\">\n",
              "\n",
              "  <div class=\"colab-df-container\">\n",
              "    <button class=\"colab-df-convert\" onclick=\"convertToInteractive('df-791d58d1-dca2-43a6-b792-9968f20a2aa2')\"\n",
              "            title=\"Convert this dataframe to an interactive table.\"\n",
              "            style=\"display:none;\">\n",
              "\n",
              "  <svg xmlns=\"http://www.w3.org/2000/svg\" height=\"24px\" viewBox=\"0 -960 960 960\">\n",
              "    <path d=\"M120-120v-720h720v720H120Zm60-500h600v-160H180v160Zm220 220h160v-160H400v160Zm0 220h160v-160H400v160ZM180-400h160v-160H180v160Zm440 0h160v-160H620v160ZM180-180h160v-160H180v160Zm440 0h160v-160H620v160Z\"/>\n",
              "  </svg>\n",
              "    </button>\n",
              "\n",
              "  <style>\n",
              "    .colab-df-container {\n",
              "      display:flex;\n",
              "      gap: 12px;\n",
              "    }\n",
              "\n",
              "    .colab-df-convert {\n",
              "      background-color: #E8F0FE;\n",
              "      border: none;\n",
              "      border-radius: 50%;\n",
              "      cursor: pointer;\n",
              "      display: none;\n",
              "      fill: #1967D2;\n",
              "      height: 32px;\n",
              "      padding: 0 0 0 0;\n",
              "      width: 32px;\n",
              "    }\n",
              "\n",
              "    .colab-df-convert:hover {\n",
              "      background-color: #E2EBFA;\n",
              "      box-shadow: 0px 1px 2px rgba(60, 64, 67, 0.3), 0px 1px 3px 1px rgba(60, 64, 67, 0.15);\n",
              "      fill: #174EA6;\n",
              "    }\n",
              "\n",
              "    .colab-df-buttons div {\n",
              "      margin-bottom: 4px;\n",
              "    }\n",
              "\n",
              "    [theme=dark] .colab-df-convert {\n",
              "      background-color: #3B4455;\n",
              "      fill: #D2E3FC;\n",
              "    }\n",
              "\n",
              "    [theme=dark] .colab-df-convert:hover {\n",
              "      background-color: #434B5C;\n",
              "      box-shadow: 0px 1px 3px 1px rgba(0, 0, 0, 0.15);\n",
              "      filter: drop-shadow(0px 1px 2px rgba(0, 0, 0, 0.3));\n",
              "      fill: #FFFFFF;\n",
              "    }\n",
              "  </style>\n",
              "\n",
              "    <script>\n",
              "      const buttonEl =\n",
              "        document.querySelector('#df-791d58d1-dca2-43a6-b792-9968f20a2aa2 button.colab-df-convert');\n",
              "      buttonEl.style.display =\n",
              "        google.colab.kernel.accessAllowed ? 'block' : 'none';\n",
              "\n",
              "      async function convertToInteractive(key) {\n",
              "        const element = document.querySelector('#df-791d58d1-dca2-43a6-b792-9968f20a2aa2');\n",
              "        const dataTable =\n",
              "          await google.colab.kernel.invokeFunction('convertToInteractive',\n",
              "                                                    [key], {});\n",
              "        if (!dataTable) return;\n",
              "\n",
              "        const docLinkHtml = 'Like what you see? Visit the ' +\n",
              "          '<a target=\"_blank\" href=https://colab.research.google.com/notebooks/data_table.ipynb>data table notebook</a>'\n",
              "          + ' to learn more about interactive tables.';\n",
              "        element.innerHTML = '';\n",
              "        dataTable['output_type'] = 'display_data';\n",
              "        await google.colab.output.renderOutput(dataTable, element);\n",
              "        const docLink = document.createElement('div');\n",
              "        docLink.innerHTML = docLinkHtml;\n",
              "        element.appendChild(docLink);\n",
              "      }\n",
              "    </script>\n",
              "  </div>\n",
              "\n",
              "\n",
              "<div id=\"df-bed4a09e-eb8f-4619-bd1c-9765bd481c4f\">\n",
              "  <button class=\"colab-df-quickchart\" onclick=\"quickchart('df-bed4a09e-eb8f-4619-bd1c-9765bd481c4f')\"\n",
              "            title=\"Suggest charts\"\n",
              "            style=\"display:none;\">\n",
              "\n",
              "<svg xmlns=\"http://www.w3.org/2000/svg\" height=\"24px\"viewBox=\"0 0 24 24\"\n",
              "     width=\"24px\">\n",
              "    <g>\n",
              "        <path d=\"M19 3H5c-1.1 0-2 .9-2 2v14c0 1.1.9 2 2 2h14c1.1 0 2-.9 2-2V5c0-1.1-.9-2-2-2zM9 17H7v-7h2v7zm4 0h-2V7h2v10zm4 0h-2v-4h2v4z\"/>\n",
              "    </g>\n",
              "</svg>\n",
              "  </button>\n",
              "\n",
              "<style>\n",
              "  .colab-df-quickchart {\n",
              "      --bg-color: #E8F0FE;\n",
              "      --fill-color: #1967D2;\n",
              "      --hover-bg-color: #E2EBFA;\n",
              "      --hover-fill-color: #174EA6;\n",
              "      --disabled-fill-color: #AAA;\n",
              "      --disabled-bg-color: #DDD;\n",
              "  }\n",
              "\n",
              "  [theme=dark] .colab-df-quickchart {\n",
              "      --bg-color: #3B4455;\n",
              "      --fill-color: #D2E3FC;\n",
              "      --hover-bg-color: #434B5C;\n",
              "      --hover-fill-color: #FFFFFF;\n",
              "      --disabled-bg-color: #3B4455;\n",
              "      --disabled-fill-color: #666;\n",
              "  }\n",
              "\n",
              "  .colab-df-quickchart {\n",
              "    background-color: var(--bg-color);\n",
              "    border: none;\n",
              "    border-radius: 50%;\n",
              "    cursor: pointer;\n",
              "    display: none;\n",
              "    fill: var(--fill-color);\n",
              "    height: 32px;\n",
              "    padding: 0;\n",
              "    width: 32px;\n",
              "  }\n",
              "\n",
              "  .colab-df-quickchart:hover {\n",
              "    background-color: var(--hover-bg-color);\n",
              "    box-shadow: 0 1px 2px rgba(60, 64, 67, 0.3), 0 1px 3px 1px rgba(60, 64, 67, 0.15);\n",
              "    fill: var(--button-hover-fill-color);\n",
              "  }\n",
              "\n",
              "  .colab-df-quickchart-complete:disabled,\n",
              "  .colab-df-quickchart-complete:disabled:hover {\n",
              "    background-color: var(--disabled-bg-color);\n",
              "    fill: var(--disabled-fill-color);\n",
              "    box-shadow: none;\n",
              "  }\n",
              "\n",
              "  .colab-df-spinner {\n",
              "    border: 2px solid var(--fill-color);\n",
              "    border-color: transparent;\n",
              "    border-bottom-color: var(--fill-color);\n",
              "    animation:\n",
              "      spin 1s steps(1) infinite;\n",
              "  }\n",
              "\n",
              "  @keyframes spin {\n",
              "    0% {\n",
              "      border-color: transparent;\n",
              "      border-bottom-color: var(--fill-color);\n",
              "      border-left-color: var(--fill-color);\n",
              "    }\n",
              "    20% {\n",
              "      border-color: transparent;\n",
              "      border-left-color: var(--fill-color);\n",
              "      border-top-color: var(--fill-color);\n",
              "    }\n",
              "    30% {\n",
              "      border-color: transparent;\n",
              "      border-left-color: var(--fill-color);\n",
              "      border-top-color: var(--fill-color);\n",
              "      border-right-color: var(--fill-color);\n",
              "    }\n",
              "    40% {\n",
              "      border-color: transparent;\n",
              "      border-right-color: var(--fill-color);\n",
              "      border-top-color: var(--fill-color);\n",
              "    }\n",
              "    60% {\n",
              "      border-color: transparent;\n",
              "      border-right-color: var(--fill-color);\n",
              "    }\n",
              "    80% {\n",
              "      border-color: transparent;\n",
              "      border-right-color: var(--fill-color);\n",
              "      border-bottom-color: var(--fill-color);\n",
              "    }\n",
              "    90% {\n",
              "      border-color: transparent;\n",
              "      border-bottom-color: var(--fill-color);\n",
              "    }\n",
              "  }\n",
              "</style>\n",
              "\n",
              "  <script>\n",
              "    async function quickchart(key) {\n",
              "      const quickchartButtonEl =\n",
              "        document.querySelector('#' + key + ' button');\n",
              "      quickchartButtonEl.disabled = true;  // To prevent multiple clicks.\n",
              "      quickchartButtonEl.classList.add('colab-df-spinner');\n",
              "      try {\n",
              "        const charts = await google.colab.kernel.invokeFunction(\n",
              "            'suggestCharts', [key], {});\n",
              "      } catch (error) {\n",
              "        console.error('Error during call to suggestCharts:', error);\n",
              "      }\n",
              "      quickchartButtonEl.classList.remove('colab-df-spinner');\n",
              "      quickchartButtonEl.classList.add('colab-df-quickchart-complete');\n",
              "    }\n",
              "    (() => {\n",
              "      let quickchartButtonEl =\n",
              "        document.querySelector('#df-bed4a09e-eb8f-4619-bd1c-9765bd481c4f button');\n",
              "      quickchartButtonEl.style.display =\n",
              "        google.colab.kernel.accessAllowed ? 'block' : 'none';\n",
              "    })();\n",
              "  </script>\n",
              "</div>\n",
              "\n",
              "    </div>\n",
              "  </div>\n"
            ],
            "application/vnd.google.colaboratory.intrinsic+json": {
              "type": "dataframe",
              "variable_name": "df",
              "summary": "{\n  \"name\": \"df\",\n  \"rows\": 15531,\n  \"fields\": [\n    {\n      \"column\": \"rating\",\n      \"properties\": {\n        \"dtype\": \"category\",\n        \"num_unique_values\": 11,\n        \"samples\": [\n          \"2\",\n          \"10\",\n          \"7\"\n        ],\n        \"semantic_type\": \"\",\n        \"description\": \"\"\n      }\n    },\n    {\n      \"column\": \"helpful\",\n      \"properties\": {\n        \"dtype\": \"number\",\n        \"std\": 37,\n        \"min\": 0,\n        \"max\": 984,\n        \"num_unique_values\": 280,\n        \"samples\": [\n          294,\n          33,\n          507\n        ],\n        \"semantic_type\": \"\",\n        \"description\": \"\"\n      }\n    },\n    {\n      \"column\": \"total\",\n      \"properties\": {\n        \"dtype\": \"number\",\n        \"std\": 62,\n        \"min\": 0,\n        \"max\": 1154,\n        \"num_unique_values\": 383,\n        \"samples\": [\n          151,\n          549,\n          202\n        ],\n        \"semantic_type\": \"\",\n        \"description\": \"\"\n      }\n    },\n    {\n      \"column\": \"date\",\n      \"properties\": {\n        \"dtype\": \"object\",\n        \"num_unique_values\": 4952,\n        \"samples\": [\n          \"2016-05-27\",\n          \"2001-01-09\",\n          \"2014-02-01\"\n        ],\n        \"semantic_type\": \"\",\n        \"description\": \"\"\n      }\n    },\n    {\n      \"column\": \"title\",\n      \"properties\": {\n        \"dtype\": \"string\",\n        \"num_unique_values\": 14424,\n        \"samples\": [\n          \" The incredibles\\n\",\n          \" The ending of an excellent childhood\\n\",\n          \" Just Let It Go, People\\n\"\n        ],\n        \"semantic_type\": \"\",\n        \"description\": \"\"\n      }\n    },\n    {\n      \"column\": \"review\",\n      \"properties\": {\n        \"dtype\": \"string\",\n        \"num_unique_values\": 15491,\n        \"samples\": [\n          \"Disney like the word \\\"magic\\\". And in this case, the great marriage between Disney and Pixar work so well that the result is Magic. Magic for its original scenario, for the characters, the design and of course, and above all, the terrific animation. While a rat is not a very lovable animal, Pixar succeeded to make a little rodent, and all his family, most adorable and friendly. I tell you, you wont see a rat the same way after watching ratatouille ! By the way, the selling of rats in the UK, as a pet, had been grown up to 50 % since the release of the movie. Not 10/10 because of the score and the song, sang in a very weak, broken french. But over-whole, once again, a great journey into magic. Dreamworks can still manage and try to do better. But without a good writer and director, they will only do pale copies.\",\n          \"With the release of Tangled and Frozen so close together, Disney is showing that it still has the quality that we loved of it in the late 80's and 90's.<br/><br/>While I feel that the story wasn't quite as captivating as that of Tangled's, the musical numbers more than make up for it, special praise being for \\\"Do You Want to Build a Snowman\\\" and (obviously) \\\"Let it Go\\\". The strength of these musical numbers (in my opinion) pulls this up to a par with Tangled.<br/><br/>What I give more praise for is the film's originality in terms of plot, it's not every day that I watch a Disney film and find myself pondering who the main antagonist will be, and how the film will end, hats off to that, and for giving yet more empowered female characters. It's good to see Disney moving along with the times.<br/><br/>All in all I recommend this film to any fan of Disney, and any film fan in general, I wasn't sure what all the buzz was about at first, but now I have seen it I can see it is justified. 10/10\",\n          \"I've always been very impressed by animated films, I think they're generally of a very high standard. There is a strange apprehension that many adults seem to have about them; that they're silly, just for kids. It's completely irrational. I think animation is actually the \\\"genre\\\" with the highest consistent standard. They almost always have far more detail than live-action entertainment. Everything you see was specifically put there, it was built from scratch. Nowadays it's possible to get lazy with the use of computers, but with the right attitude, CGI only opens up more possibilities. It also allows for more exaggeration and symbolism; you aren't limited to the reality everyone is used to. You can set up your own rules which is far more refreshing and exciting.<br/><br/>The characters are very strong and human in Frozen, especially Ana. She loves her sister Elsa and just wants to play with her all the time. She loves her so much that it hurts every time she's turned down and yet she is still just as excited to play with her the next time. There is a lot of physical comedy with Ana. She is very energetic and positive and careless. We see her heart and her insecurities, she is very likable.<br/><br/>The story is quite adult in some ways. Many families will experience some kind of strain or separation, whether temporary or permanent. Each side has their own point of view and are often trying to do the right thing; it's complicated. People get hurt, years pass and there is anger and guilt and regret. And hopefully, there is still love.<br/><br/>The characters we meet are all interesting and quirky. We get a good feel for their personality from the get-go. There are twists that may teach kids to think twice about first impressions. Elsa isn't evil but is conflicted and dangerous which is a nice change from typical villains in movies. The action scenes are done really well. There are only a few parts that are a bit weaker or predictable (the troll song seems unnecessary). The voice-acting is fun and varied, they say lines in interesting ways that bring out more meaning.<br/><br/>Olaf is very funny and offbeat. He fills in a familiar position in these kinds of movies but his timing and manner is unique. You aren't quite sure what he's going to say but it's generally very funny. He makes matter-of-fact observations halfway between obvious and profound.<br/><br/>Although the music is very nice, I think the transitions were too forced and artificial. A bit too perfect. The songs fall too conveniently into standard show-stopping number formats. Reminds me of Wicked and Glee - let's all stop and sing loudly and proudly and colourfully with shining lights on us. It should be natural, an emotional expression of the character's feelings and desires. Not a show-off piece of pop music with \\\"hilarious\\\" lines thrown in. Still, the songs are very good and sometimes funny. But there could be more of a common thread or style running through them and more originality or boldness.<br/><br/>It's unfair and naive that the world seems to look down at \\\"kid's movies\\\" (any genre other than drama apparently deserves no respect). If anything, they usually achieve more than other films. They manage to move us, make us laugh or sing or smile or cry. They do this without swearing or being excessively violent or sexual (easy ways to affect people or to be \\\"ground-breaking\\\"). They draw us in with simple, beautiful stories and characters. All made possible by the tremendous amount of talent, passion and hard-work going on behind the scenes.\"\n        ],\n        \"semantic_type\": \"\",\n        \"description\": \"\"\n      }\n    },\n    {\n      \"column\": \"UniqueID\",\n      \"properties\": {\n        \"dtype\": \"category\",\n        \"num_unique_values\": 23,\n        \"samples\": [\n          \"Zootopia 2016\",\n          \"Toy Story 4 2019\",\n          \"Inside Out 2015\"\n        ],\n        \"semantic_type\": \"\",\n        \"description\": \"\"\n      }\n    },\n    {\n      \"column\": \"release_date\",\n      \"properties\": {\n        \"dtype\": \"object\",\n        \"num_unique_values\": 22,\n        \"samples\": [\n          \"2015-06-19\",\n          \"2013-06-21\",\n          \"2014-11-07\"\n        ],\n        \"semantic_type\": \"\",\n        \"description\": \"\"\n      }\n    },\n    {\n      \"column\": \"recent?\",\n      \"properties\": {\n        \"dtype\": \"number\",\n        \"std\": 0,\n        \"min\": 0,\n        \"max\": 1,\n        \"num_unique_values\": 2,\n        \"samples\": [\n          1,\n          0\n        ],\n        \"semantic_type\": \"\",\n        \"description\": \"\"\n      }\n    },\n    {\n      \"column\": \"negative\",\n      \"properties\": {\n        \"dtype\": \"number\",\n        \"std\": 0.04590281107376102,\n        \"min\": 0.0,\n        \"max\": 0.497,\n        \"num_unique_values\": 301,\n        \"samples\": [\n          0.154,\n          0.21\n        ],\n        \"semantic_type\": \"\",\n        \"description\": \"\"\n      }\n    },\n    {\n      \"column\": \"positive\",\n      \"properties\": {\n        \"dtype\": \"number\",\n        \"std\": 0.08313879630670494,\n        \"min\": 0.0,\n        \"max\": 0.88,\n        \"num_unique_values\": 561,\n        \"samples\": [\n          0.597,\n          0.307\n        ],\n        \"semantic_type\": \"\",\n        \"description\": \"\"\n      }\n    },\n    {\n      \"column\": \"compound\",\n      \"properties\": {\n        \"dtype\": \"number\",\n        \"std\": 0.46218425466285756,\n        \"min\": -0.9991,\n        \"max\": 0.9999,\n        \"num_unique_values\": 3614,\n        \"samples\": [\n          -0.5806,\n          0.6663\n        ],\n        \"semantic_type\": \"\",\n        \"description\": \"\"\n      }\n    }\n  ]\n}"
            }
          },
          "metadata": {},
          "execution_count": 11
        }
      ]
    },
    {
      "cell_type": "code",
      "source": [
        "# Filter for recent reviews\n",
        "recent_reviews = df[df['recent?'] == 1]\n",
        "\n",
        "# Calculate the average sentiment score for recent reviews\n",
        "average_sentiment = recent_reviews['compound'].mean()\n",
        "\n",
        "print(\"Average sentiment score for recent reviews:\", average_sentiment)"
      ],
      "metadata": {
        "colab": {
          "base_uri": "https://localhost:8080/"
        },
        "id": "DLDDBIqlZdrS",
        "outputId": "dbe59742-ccfe-4081-b396-3fa7e69270c9"
      },
      "execution_count": 12,
      "outputs": [
        {
          "output_type": "stream",
          "name": "stdout",
          "text": [
            "Average sentiment score for recent reviews: 0.8043454630788486\n"
          ]
        }
      ]
    },
    {
      "cell_type": "code",
      "source": [
        "# Filter for recent reviews\n",
        "not_recent_reviews = df[df['recent?'] == 0]\n",
        "\n",
        "# Calculate the average sentiment score for recent reviews\n",
        "average_sentiment2 = not_recent_reviews['compound'].mean()\n",
        "\n",
        "print(\"Average sentiment score for not recent reviews:\", average_sentiment2)"
      ],
      "metadata": {
        "colab": {
          "base_uri": "https://localhost:8080/"
        },
        "id": "7dStw-hLZklg",
        "outputId": "825281ce-9fc3-4806-8567-3c9d1f685e79"
      },
      "execution_count": 13,
      "outputs": [
        {
          "output_type": "stream",
          "name": "stdout",
          "text": [
            "Average sentiment score for not recent reviews: 0.7791805485445061\n"
          ]
        }
      ]
    },
    {
      "cell_type": "code",
      "source": [
        "# t test\n",
        "from scipy import stats\n",
        "\n",
        "recent_scores = df[df['recent?'] == 1]['compound']\n",
        "non_recent_scores = df[df['recent?'] == 0]['compound']\n",
        "\n",
        "# Perform a one-tailed t-test\n",
        "t_statistic, p_value = stats.ttest_ind(recent_scores, non_recent_scores, alternative='greater')\n",
        "\n",
        "print(\"T-statistic:\", t_statistic)\n",
        "print(\"P-value:\", p_value)\n",
        "\n",
        "# Determines if we reject or fail to reject the null hypothesis\n",
        "alpha = 0.05  # significance level\n",
        "if p_value < alpha:\n",
        "    print(\"Reject the null hypothesis: Recent reviews have higher sentiment scores.\")\n",
        "else:\n",
        "    print(\"Fail to reject the null hypothesis: No evidence that recent reviews have higher sentiment scores.\")"
      ],
      "metadata": {
        "colab": {
          "base_uri": "https://localhost:8080/"
        },
        "id": "c-ftOE44ZuBF",
        "outputId": "9c2aeead-d1e2-4c62-c3a9-254d9d0617ac"
      },
      "execution_count": 14,
      "outputs": [
        {
          "output_type": "stream",
          "name": "stdout",
          "text": [
            "T-statistic: 3.2990252074238677\n",
            "P-value: 0.00048619742012325195\n",
            "Reject the null hypothesis: Recent reviews have higher sentiment scores.\n"
          ]
        }
      ]
    },
    {
      "cell_type": "code",
      "source": [
        "# visualizations\n",
        "import seaborn as sns\n",
        "import matplotlib.pyplot as plt\n",
        "\n",
        "# changes the background to have a white grid format\n",
        "sns.set(style=\"whitegrid\")\n",
        "\n",
        "# box plot\n",
        "plt.figure(figsize=(10, 6))\n",
        "sns.boxplot(x='recent?', y='compound', data=df)\n",
        "plt.xticks([0, 1], ['Non-Recent', 'Recent'])\n",
        "plt.title('Sentiment Scores: Recent vs Non-Recent Reviews')\n",
        "plt.ylabel('Sentiment Score (Compound)')\n",
        "plt.xlabel('Review Timing')\n",
        "plt.show()"
      ],
      "metadata": {
        "colab": {
          "base_uri": "https://localhost:8080/",
          "height": 573
        },
        "id": "FTRqazZWZ4QT",
        "outputId": "f1622e5f-f78e-49e4-8484-5f5a66e17249"
      },
      "execution_count": 15,
      "outputs": [
        {
          "output_type": "display_data",
          "data": {
            "text/plain": [
              "<Figure size 1000x600 with 1 Axes>"
            ],
            "image/png": "[encoded data removed]"
          },
          "metadata": {}
        }
      ]
    },
    {
      "cell_type": "code",
      "source": [
        "# violin plot\n",
        "plt.figure(figsize=(10, 6))\n",
        "sns.violinplot(x='recent?', y='compound', data=df)\n",
        "plt.xticks([0, 1], ['Non-Recent', 'Recent'])\n",
        "plt.title('Sentiment Scores: Recent vs Non-Recent Reviews')\n",
        "plt.ylabel('Sentiment Score (Compound)')\n",
        "plt.xlabel('Review Timing')\n",
        "plt.show()"
      ],
      "metadata": {
        "colab": {
          "base_uri": "https://localhost:8080/",
          "height": 573
        },
        "id": "SYub_ggoZ7YB",
        "outputId": "632c82e4-efe7-4cb1-9c72-4f20e19280fa"
      },
      "execution_count": 16,
      "outputs": [
        {
          "output_type": "display_data",
          "data": {
            "text/plain": [
              "<Figure size 1000x600 with 1 Axes>"
            ],
            "image/png": "[encoded data removed]"
          },
          "metadata": {}
        }
      ]
    },
    {
      "cell_type": "code",
      "source": [
        "# bar plot for mean sentiment scores\n",
        "mean_scores = df.groupby('recent?')['compound'].mean().reset_index()\n",
        "\n",
        "plt.figure(figsize=(8, 5))\n",
        "sns.barplot(x='recent?', y='compound', data=mean_scores, palette='Blues')\n",
        "plt.xticks([0, 1], ['Non-Recent', 'Recent'])\n",
        "plt.title('Average Sentiment Scores: Recent vs Non-Recent Reviews')\n",
        "plt.ylabel('Average Sentiment Score (Compound)')\n",
        "plt.xlabel('Review Timing')\n",
        "plt.show()"
      ],
      "metadata": {
        "colab": {
          "base_uri": "https://localhost:8080/",
          "height": 605
        },
        "id": "W1cvl8B2Z-QY",
        "outputId": "ed592aa6-f198-4347-92a1-449bd8f4a7e6"
      },
      "execution_count": 17,
      "outputs": [
        {
          "output_type": "stream",
          "name": "stderr",
          "text": [
            "<ipython-input-17-e5b06c41a928>:5: FutureWarning: \n",
            "\n",
            "Passing `palette` without assigning `hue` is deprecated and will be removed in v0.14.0. Assign the `x` variable to `hue` and set `legend=False` for the same effect.\n",
            "\n",
            "  sns.barplot(x='recent?', y='compound', data=mean_scores, palette='Blues')\n"
          ]
        },
        {
          "output_type": "display_data",
          "data": {
            "text/plain": [
              "<Figure size 800x500 with 1 Axes>"
            ],
            "image/png": "[encoded data removed]"
          },
          "metadata": {}
        }
      ]
    },
    {
      "cell_type": "code",
      "source": [
        "import statsmodels.api as sm\n",
        "\n",
        "# Define the independent variable (recent?) and dependent variable (compound)\n",
        "X = df['recent?']\n",
        "y = df['compound']\n",
        "\n",
        "# Add a constant to the independent variable (for the intercept), to capture unmeasured error in y\n",
        "X = sm.add_constant(X)\n",
        "\n",
        "# Fits the regression model\n",
        "model = sm.OLS(y, X).fit()\n",
        "\n",
        "# R-squared value\n",
        "r_squared = model.rsquared\n",
        "print(\"R-squared:\", r_squared)\n",
        "\n",
        "# Print the summary of the regression\n",
        "print(model.summary())"
      ],
      "metadata": {
        "colab": {
          "base_uri": "https://localhost:8080/"
        },
        "id": "eG8eSjpVaEJO",
        "outputId": "b9c032ec-f7e3-424f-e329-43baf6ee2736"
      },
      "execution_count": 18,
      "outputs": [
        {
          "output_type": "stream",
          "name": "stdout",
          "text": [
            "R-squared: 0.000700363504788637\n",
            "                            OLS Regression Results                            \n",
            "==============================================================================\n",
            "Dep. Variable:               compound   R-squared:                       0.001\n",
            "Model:                            OLS   Adj. R-squared:                  0.001\n",
            "Method:                 Least Squares   F-statistic:                     10.88\n",
            "Date:                Sat, 16 Nov 2024   Prob (F-statistic):           0.000972\n",
            "Time:                        19:17:10   Log-Likelihood:                -10045.\n",
            "No. Observations:               15531   AIC:                         2.009e+04\n",
            "Df Residuals:                   15529   BIC:                         2.011e+04\n",
            "Df Model:                           1                                         \n",
            "Covariance Type:            nonrobust                                         \n",
            "==============================================================================\n",
            "                 coef    std err          t      P>|t|      [0.025      0.975]\n",
            "------------------------------------------------------------------------------\n",
            "const          0.7792      0.006    130.006      0.000       0.767       0.791\n",
            "recent?        0.0252      0.008      3.299      0.001       0.010       0.040\n",
            "==============================================================================\n",
            "Omnibus:                     8749.154   Durbin-Watson:                   1.735\n",
            "Prob(Omnibus):                  0.000   Jarque-Bera (JB):            51284.738\n",
            "Skew:                          -2.823   Prob(JB):                         0.00\n",
            "Kurtosis:                       9.883   Cond. No.                         2.99\n",
            "==============================================================================\n",
            "\n",
            "Notes:\n",
            "[1] Standard Errors assume that the covariance matrix of the errors is correctly specified.\n"
          ]
        }
      ]
    },
    {
      "cell_type": "code",
      "source": [
        "# Calculate confidence intervals\n",
        "recent_mean = df[df['recent?'] == 1]['compound'].mean()\n",
        "non_recent_mean = df[df['recent?'] == 0]['compound'].mean()\n",
        "\n",
        "recent_ci = stats.t.interval(0.95, len(df[df['recent?'] == 1])-1, loc=recent_mean, scale=stats.sem(df[df['recent?'] == 1]['compound']))\n",
        "non_recent_ci = stats.t.interval(0.95, len(df[df['recent?'] == 0])-1, loc=non_recent_mean, scale=stats.sem(df[df['recent?'] == 0]['compound']))\n",
        "\n",
        "print(\"Recent CI:\", recent_ci)\n",
        "print(\"Non-Recent CI:\", non_recent_ci)"
      ],
      "metadata": {
        "colab": {
          "base_uri": "https://localhost:8080/"
        },
        "id": "AVe5hqxMaGUA",
        "outputId": "f0a06c84-b1c5-48f5-f62e-18d7b2472afe"
      },
      "execution_count": 19,
      "outputs": [
        {
          "output_type": "stream",
          "name": "stdout",
          "text": [
            "Recent CI: (0.7950454011362734, 0.8136455250214237)\n",
            "Non-Recent CI: (0.76753576063952, 0.7908253364494923)\n"
          ]
        }
      ]
    },
    {
      "cell_type": "code",
      "source": [
        "# visualize the confidence interval\n",
        "import numpy as np\n",
        "\n",
        "# Calculate means and confidence intervals\n",
        "mean_recent = df[df['recent?'] == 1]['compound'].mean()\n",
        "mean_non_recent = df[df['recent?'] == 0]['compound'].mean()\n",
        "ci_recent = (0.798, 0.816)  # replace with your calculated CIs\n",
        "ci_non_recent = (0.760, 0.785)\n",
        "\n",
        "means = [mean_recent, mean_non_recent]\n",
        "cis = [ci_recent, ci_non_recent]\n",
        "\n",
        "# Create a DataFrame for easier plotting\n",
        "plot_data = pd.DataFrame({\n",
        "    'Group': ['Recent', 'Non-Recent'],\n",
        "    'Mean': means,\n",
        "    'CI_Lower': [ci[0] for ci in cis],\n",
        "    'CI_Upper': [ci[1] for ci in cis]\n",
        "})\n",
        "\n",
        "# Plotting\n",
        "plt.figure(figsize=(8, 5))\n",
        "sns.barplot(x='Group', y='Mean', data=plot_data, palette='Blues', capsize=.1)\n",
        "plt.errorbar(x=plot_data['Group'], y=plot_data['Mean'],\n",
        "             yerr=[plot_data['Mean'] - plot_data['CI_Lower'],\n",
        "                    plot_data['CI_Upper'] - plot_data['Mean']],\n",
        "             fmt='none', c='black', capsize=5)\n",
        "\n",
        "plt.title('Mean Sentiment Scores with Confidence Intervals')\n",
        "plt.ylabel('Mean Sentiment Score (Compound)')\n",
        "plt.ylim(0.75, 0.85)  # Adjust y-axis limits as needed\n",
        "plt.show()"
      ],
      "metadata": {
        "colab": {
          "base_uri": "https://localhost:8080/",
          "height": 605
        },
        "id": "ihFl9X5haTVF",
        "outputId": "16353029-49a5-4cfb-8ca6-18e106eed1ce"
      },
      "execution_count": 20,
      "outputs": [
        {
          "output_type": "stream",
          "name": "stderr",
          "text": [
            "<ipython-input-20-dbef26adfb9b>:23: FutureWarning: \n",
            "\n",
            "Passing `palette` without assigning `hue` is deprecated and will be removed in v0.14.0. Assign the `x` variable to `hue` and set `legend=False` for the same effect.\n",
            "\n",
            "  sns.barplot(x='Group', y='Mean', data=plot_data, palette='Blues', capsize=.1)\n"
          ]
        },
        {
          "output_type": "display_data",
          "data": {
            "text/plain": [
              "<Figure size 800x500 with 1 Axes>"
            ],
            "image/png": "[encoded data removed]"
          },
          "metadata": {}
        }
      ]
    },
    {
      "cell_type": "markdown",
      "source": [
        "Since there is no overlap in these intervals we can be sure that the difference is statistically significant\n"
      ],
      "metadata": {
        "id": "6Khf-XDKagGC"
      }
    }
  ]
}