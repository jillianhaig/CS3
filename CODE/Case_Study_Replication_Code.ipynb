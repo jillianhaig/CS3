{
  "nbformat": 4,
  "nbformat_minor": 0,
  "metadata": {
    "colab": {
      "provenance": [],
      "authorship_tag": "ABX9TyOfjaEsuqq1P/Y/QSveOco/",
      "include_colab_link": true
    },
    "kernelspec": {
      "name": "python3",
      "display_name": "Python 3"
    },
    "language_info": {
      "name": "python"
    }
  },
  "cells": [
    {
      "cell_type": "markdown",
      "metadata": {
        "id": "view-in-github",
        "colab_type": "text"
      },
      "source": [
        "<a href=\"https://colab.research.google.com/github/jillianhaig/CS3/blob/main/CODE/Case_Study_Replication_Code.ipynb\" target=\"_parent\"><img src=\"https://colab.research.google.com/assets/colab-badge.svg\" alt=\"Open In Colab\"/></a>"
      ]
    },
    {
      "cell_type": "markdown",
      "source": [
        "This ipynb file walks the student through the analysis. Start by connecting this file to the GitHub repository that contains the data of interest:"
      ],
      "metadata": {
        "id": "HP3rDJ9LZb2F"
      }
    },
    {
      "cell_type": "code",
      "execution_count": null,
      "metadata": {
        "colab": {
          "base_uri": "https://localhost:8080/"
        },
        "id": "VhRPQSogWWlg",
        "outputId": "a47b2e90-5761-48aa-9c38-130d69690207"
      },
      "outputs": [
        {
          "output_type": "stream",
          "name": "stdout",
          "text": [
            "Cloning into 'CS3'...\n",
            "remote: Enumerating objects: 63, done.\u001b[K\n",
            "remote: Counting objects: 100% (63/63), done.\u001b[K\n",
            "remote: Compressing objects: 100% (57/57), done.\u001b[K\n",
            "remote: Total 63 (delta 22), reused 0 (delta 0), pack-reused 0 (from 0)\u001b[K\n",
            "Receiving objects: 100% (63/63), 20.95 MiB | 5.63 MiB/s, done.\n",
            "Resolving deltas: 100% (22/22), done.\n"
          ]
        }
      ],
      "source": [
        "! git clone https://github.com/jillianhaig/CS3 # access data loaded from the github repository"
      ]
    },
    {
      "cell_type": "markdown",
      "source": [
        "Next, import necessary packages:"
      ],
      "metadata": {
        "id": "f0wLMcMjZpEc"
      }
    },
    {
      "cell_type": "code",
      "source": [
        "# import packages\n",
        "import pandas as pd\n",
        "from scipy import stats\n",
        "import seaborn as sns\n",
        "import matplotlib.pyplot as plt\n",
        "import statsmodels.api as sm\n",
        "import numpy as np"
      ],
      "metadata": {
        "id": "UKWYuRJ7WpKu"
      },
      "execution_count": null,
      "outputs": []
    },
    {
      "cell_type": "markdown",
      "source": [
        "Load in the Disney_Movie_Dataset:"
      ],
      "metadata": {
        "id": "klxPV-0ZZuWu"
      }
    },
    {
      "cell_type": "code",
      "source": [
        "# Load in the dataset\n",
        "\n",
        "# code here"
      ],
      "metadata": {
        "id": "d4CWo376Wv3o"
      },
      "execution_count": null,
      "outputs": []
    },
    {
      "cell_type": "markdown",
      "source": [
        "The student will use the VADER package to obtain sentiment scores for the movie reviews. Start by installing the vaderSentiment packages provides below:"
      ],
      "metadata": {
        "id": "GJv6xy92aB5M"
      }
    },
    {
      "cell_type": "code",
      "source": [
        "# Use the VADER package to obtain compounded sentiment scores from the review text data\n",
        "!pip install vaderSentiment\n",
        "from vaderSentiment.vaderSentiment import SentimentIntensityAnalyzer"
      ],
      "metadata": {
        "colab": {
          "base_uri": "https://localhost:8080/"
        },
        "id": "zzL71gEBYNfQ",
        "outputId": "08a480ea-bf86-4eee-ab03-4c6fa715d00f"
      },
      "execution_count": null,
      "outputs": [
        {
          "output_type": "stream",
          "name": "stdout",
          "text": [
            "Collecting vaderSentiment\n",
            "  Downloading vaderSentiment-3.3.2-py2.py3-none-any.whl.metadata (572 bytes)\n",
            "Requirement already satisfied: requests in /usr/local/lib/python3.10/dist-packages (from vaderSentiment) (2.32.3)\n",
            "Requirement already satisfied: charset-normalizer<4,>=2 in /usr/local/lib/python3.10/dist-packages (from requests->vaderSentiment) (3.4.0)\n",
            "Requirement already satisfied: idna<4,>=2.5 in /usr/local/lib/python3.10/dist-packages (from requests->vaderSentiment) (3.10)\n",
            "Requirement already satisfied: urllib3<3,>=1.21.1 in /usr/local/lib/python3.10/dist-packages (from requests->vaderSentiment) (2.2.3)\n",
            "Requirement already satisfied: certifi>=2017.4.17 in /usr/local/lib/python3.10/dist-packages (from requests->vaderSentiment) (2024.8.30)\n",
            "Downloading vaderSentiment-3.3.2-py2.py3-none-any.whl (125 kB)\n",
            "\u001b[?25l   \u001b[90m━━━━━━━━━━━━━━━━━━━━━━━━━━━━━━━━━━━━━━━━\u001b[0m \u001b[32m0.0/126.0 kB\u001b[0m \u001b[31m?\u001b[0m eta \u001b[36m-:--:--\u001b[0m\r\u001b[2K   \u001b[91m━━━━━━━━━━━━━━━━━━━━━━━━━━━━━━━━━━━━━━━\u001b[0m\u001b[90m╺\u001b[0m \u001b[32m122.9/126.0 kB\u001b[0m \u001b[31m3.9 MB/s\u001b[0m eta \u001b[36m0:00:01\u001b[0m\r\u001b[2K   \u001b[90m━━━━━━━━━━━━━━━━━━━━━━━━━━━━━━━━━━━━━━━━\u001b[0m \u001b[32m126.0/126.0 kB\u001b[0m \u001b[31m2.7 MB/s\u001b[0m eta \u001b[36m0:00:00\u001b[0m\n",
            "\u001b[?25hInstalling collected packages: vaderSentiment\n",
            "Successfully installed vaderSentiment-3.3.2\n"
          ]
        }
      ]
    },
    {
      "cell_type": "code",
      "source": [
        "# Initialize VADER sentiment analyzer\n",
        "analyzer = SentimentIntensityAnalyzer()"
      ],
      "metadata": {
        "id": "SgfSnECgYq0y"
      },
      "execution_count": null,
      "outputs": []
    },
    {
      "cell_type": "markdown",
      "source": [
        "Next, create a function to get the sentiment scores. There will be scores for negative, positive, and compound sentiments."
      ],
      "metadata": {
        "id": "c7Y5664vabsz"
      }
    },
    {
      "cell_type": "code",
      "source": [
        "# Function to get sentiment scores\n",
        "\n",
        "# code here"
      ],
      "metadata": {
        "id": "Hpme5iBMYsDL"
      },
      "execution_count": null,
      "outputs": []
    },
    {
      "cell_type": "code",
      "source": [
        "# Apply the function to the 'review' column\n",
        "\n",
        "# code here"
      ],
      "metadata": {
        "id": "6verL0CyYujm"
      },
      "execution_count": null,
      "outputs": []
    },
    {
      "cell_type": "markdown",
      "source": [
        "Now that the sentiment scores have been found, find differences between average sentiment scores for recent reviews versus non recent. The \"recent?\" variable is important for this step."
      ],
      "metadata": {
        "id": "lNitAMb4aux2"
      }
    },
    {
      "cell_type": "code",
      "source": [
        "# Filter for recent reviews\n",
        "# code here\n",
        "\n",
        "# Calculate the average sentiment score for recent reviews\n",
        "# code here\n",
        "\n",
        "# Print average sentiment scores for recent reviews"
      ],
      "metadata": {
        "id": "DLDDBIqlZdrS"
      },
      "execution_count": null,
      "outputs": []
    },
    {
      "cell_type": "code",
      "source": [
        "# Filter for non-recent reviews\n",
        "# code here\n",
        "\n",
        "# Calculate the average sentiment score for non-recent reviews\n",
        "# code here\n",
        "\n",
        "# Print average sentiment scores for recent reviews\n",
        "# code here"
      ],
      "metadata": {
        "id": "7dStw-hLZklg"
      },
      "execution_count": null,
      "outputs": []
    },
    {
      "cell_type": "markdown",
      "source": [
        "After finding the average compound sentiment scores for recent and non-recent movie reviews, perform a t test to investigate the hypothesis that recent movie reviews will have higher compound sentiment scores:"
      ],
      "metadata": {
        "id": "whVRqdrTbRff"
      }
    },
    {
      "cell_type": "code",
      "source": [
        "# Perform a one-tailed t-test to test the hypothesis and find the p value:\n",
        "# code here\n",
        "\n",
        "# Null Hypothesis: No evidence that recent reviews have higher sentiment scores\n",
        "# Alternative Hypothesis: Recent revies have higher sentiment scores\n",
        "\n",
        "# Determine if we reject or fail to reject the null hypothesis\n",
        "# Reject the null if the p value is less than 0.05\n",
        "# code here"
      ],
      "metadata": {
        "id": "c-ftOE44ZuBF"
      },
      "execution_count": null,
      "outputs": []
    },
    {
      "cell_type": "markdown",
      "source": [
        "Create visualizations to demonstrate the findings:"
      ],
      "metadata": {
        "id": "Grh5AVvTbjo8"
      }
    },
    {
      "cell_type": "code",
      "source": [
        "# Box Plot\n",
        "\n",
        "# use plt and sns to create a graph with two box plots: one for non recent and one for recent reviews on the x axis\n",
        "# put the compounded sentiment scores on the y axis\n",
        "\n",
        "# code here"
      ],
      "metadata": {
        "id": "FTRqazZWZ4QT"
      },
      "execution_count": null,
      "outputs": []
    },
    {
      "cell_type": "code",
      "source": [
        "# Violin plot\n",
        "\n",
        "# use plt and sns to create a violin plot with the review timing (both recent and non recent) on the x axis\n",
        "# plot sentiment scores (compounded) on the y axis\n",
        "\n",
        "# code here"
      ],
      "metadata": {
        "id": "SYub_ggoZ7YB"
      },
      "execution_count": null,
      "outputs": []
    },
    {
      "cell_type": "code",
      "source": [
        "# Bar plot for mean sentiment scores\n",
        "\n",
        "# use sns and plt to create a graph with 2 bars: one with non recent reviews and one for recent (both on the x axis)\n",
        "# plot compound sentiment scores on the y axis\n",
        "\n",
        "# code here"
      ],
      "metadata": {
        "id": "W1cvl8B2Z-QY"
      },
      "execution_count": null,
      "outputs": []
    },
    {
      "cell_type": "markdown",
      "source": [
        "Create a OLS regression, using the \"recent?\" variavke as the independent variable and the compound sentiment score as the dependent variable:"
      ],
      "metadata": {
        "id": "sXi4bSN_b86G"
      }
    },
    {
      "cell_type": "code",
      "source": [
        "# OLS Regression:\n",
        "\n",
        "# Define the independent variable (recent?) and dependent variable (compounded score)\n",
        "# code here\n",
        "\n",
        "# Add a constant to the independent variable (for the intercept), to capture unmeasured error in y\n",
        "# code here\n",
        "\n",
        "# Fits the regression model\n",
        "# code here\n",
        "\n",
        "# R-squared value\n",
        "# code here\n",
        "\n",
        "# Print the summary and output of the regression\n",
        "# code here"
      ],
      "metadata": {
        "id": "eG8eSjpVaEJO"
      },
      "execution_count": null,
      "outputs": []
    },
    {
      "cell_type": "markdown",
      "source": [
        "Lastly, calculate confidence intervals (CI) for the recent and non-recent reviews' compounded sentiement scores and create a bar graph with error bars"
      ],
      "metadata": {
        "id": "08XjOlNRcGt9"
      }
    },
    {
      "cell_type": "code",
      "source": [
        "# Calculate confidence intervals for recent and non recent reviews sentiment scores\n",
        "# code here"
      ],
      "metadata": {
        "id": "AVe5hqxMaGUA"
      },
      "execution_count": null,
      "outputs": []
    },
    {
      "cell_type": "code",
      "source": [
        "# Visualize the confidence interval\n",
        "\n",
        "# Calculate means and confidence intervals\n",
        "# Create a bar plot similar to the previous one, reflecting the confidence intervals for recent vs non recent reviews\n",
        "# add error bars to the graph\n",
        "\n",
        "# code here"
      ],
      "metadata": {
        "id": "ihFl9X5haTVF"
      },
      "execution_count": null,
      "outputs": []
    }
  ]
}